{
 "cells": [
  {
   "cell_type": "markdown",
   "metadata": {},
   "source": [
    "# Hooli-Strike Team Database Controller\n",
    "<figure width=100%>\n",
    "</figure>\n",
    "    \n",
    "## CSPB 3308; Team One\n",
    "<hr>"
   ]
  },
  {
   "cell_type": "markdown",
   "metadata": {
    "tags": []
   },
   "source": [
    "## OWNERS: name, email, github username\n",
    "\n",
    "Name: ```Micah Simmerman```\n",
    "\n",
    "Email:   ```jasi9001@colorado.edu```\n",
    "\n",
    "Name: ```Paul Schneider```\n",
    "\n",
    "Email:   ```Paul.Schneider-1@colorado.edu```"
   ]
  },
  {
   "cell_type": "markdown",
   "metadata": {},
   "source": [
    "Write your table definitions here. **Format your definitions so they are readable.**"
   ]
  },
  {
   "cell_type": "markdown",
   "metadata": {},
   "source": [
    "### Establish the Database Connection"
   ]
  },
  {
   "cell_type": "code",
   "execution_count": 1,
   "metadata": {},
   "outputs": [],
   "source": [
    "import sqlite3\n",
    "con = sqlite3.connect(\"controller_db\")\n",
    "cur = con.cursor()"
   ]
  },
  {
   "cell_type": "markdown",
   "metadata": {},
   "source": [
    "# = = = = = = = = Start Destructive Queries = = = = = = = = = "
   ]
  },
  {
   "cell_type": "markdown",
   "metadata": {},
   "source": [
    "### Drop The User_Account Table"
   ]
  },
  {
   "cell_type": "code",
   "execution_count": 18,
   "metadata": {},
   "outputs": [
    {
     "name": "stdout",
     "output_type": "stream",
     "text": [
      "User_Account Table Dropped\n"
     ]
    }
   ],
   "source": [
    "DROP_User_Account = \"\"\"DROP TABLE IF EXISTS User_Account\"\"\"\n",
    "\n",
    "try:\n",
    "    res = cur.execute(DROP_User_Account)\n",
    "    res.fetchone()\n",
    "    print(\"User_Account Table Dropped\")\n",
    "except:\n",
    "    print(\"Not working\")\n",
    "\n",
    "# SAVE FOR TROUBLE SHOOTING\n",
    "# res = cur.execute(DROP_User_Account)\n",
    "# res.fetchone()\n",
    "# con.close()"
   ]
  },
  {
   "cell_type": "markdown",
   "metadata": {},
   "source": [
    "## Truncate User_Account Table"
   ]
  },
  {
   "cell_type": "code",
   "execution_count": 19,
   "metadata": {},
   "outputs": [
    {
     "name": "stdout",
     "output_type": "stream",
     "text": [
      "Unable to delete from User_Account table. Check database configuration and try again.\n"
     ]
    }
   ],
   "source": [
    "try:\n",
    "    cur = con.cursor()\n",
    "    res = cur.execute(\"DELETE FROM User_Account\")\n",
    "    res.fetchone()\n",
    "    con.commit()\n",
    "    print(\"Truncated User_Account table.\")\n",
    "except:\n",
    "    print(\"Unable to delete from User_Account table. Check database configuration and try again.\")"
   ]
  },
  {
   "cell_type": "markdown",
   "metadata": {},
   "source": [
    "# = = = = = = = = End Destructive Queries = = = = = = = = = "
   ]
  },
  {
   "cell_type": "markdown",
   "metadata": {},
   "source": [
    "### Create User_Account Table"
   ]
  },
  {
   "cell_type": "code",
   "execution_count": 20,
   "metadata": {},
   "outputs": [
    {
     "name": "stdout",
     "output_type": "stream",
     "text": [
      "User_Account table was successfully created.\n"
     ]
    }
   ],
   "source": [
    "CREATE_UserAccount = \"\"\"\n",
    "                     CREATE TABLE IF NOT EXISTS User_Account(\n",
    "                         Username VARCHAR(32),\n",
    "                         Password VARCHAR(16),\n",
    "                         First_Name VARCHAR(50),\n",
    "                         Last_Name VARCHAR(50),\n",
    "                         Email VARCHAR(320) UNIQUE, \n",
    "                         PRIMARY KEY(Username))\n",
    "                     \"\"\"\n",
    "try:\n",
    "    cur = con.cursor()\n",
    "    res = cur.execute(CREATE_UserAccount)\n",
    "    res.fetchone()\n",
    "    con.commit()\n",
    "    print(\"User_Account table was successfully created.\")\n",
    "except:\n",
    "    print(\"Unable to create UserAccount table\")"
   ]
  },
  {
   "cell_type": "markdown",
   "metadata": {},
   "source": [
    "### Select All From User_Account"
   ]
  },
  {
   "cell_type": "code",
   "execution_count": 2,
   "metadata": {},
   "outputs": [
    {
     "name": "stdout",
     "output_type": "stream",
     "text": [
      "[('username1', 'abc123', 'Mike', 'Roberts', 'email@email.com'), ('username2', 'ghi789', 'Luke', 'Vivelle', 'i_heart_sudoku659@email.com'), ('username3', 'jkl012', 'Joe', 'Henderson', 'jimmycrackKORN@email.com'), ('Jasi9001', 'password', 'Micah', 'Simmerman', 'jasi9001@colorado.edu')]\n",
      "<sqlite3.Cursor object at 0x7f9d981ff4c0>\n"
     ]
    }
   ],
   "source": [
    "cur = con.cursor()\n",
    "res = cur.execute(\"SELECT * FROM User_Account\")\n",
    "print(res.fetchall())\n",
    "con.commit()\n",
    "print(res)"
   ]
  },
  {
   "cell_type": "code",
   "execution_count": 26,
   "metadata": {},
   "outputs": [
    {
     "name": "stdout",
     "output_type": "stream",
     "text": [
      "1\n",
      "<class 'int'>\n"
     ]
    }
   ],
   "source": [
    "# = = = = = = = BEGIN SQL QUERY BUILD AND TESTING = = = = = = = = = = = \n",
    "this = cur.execute(\"\"\"\n",
    "SELECT COUNT(*)\n",
    "FROM User_Account\n",
    "WHERE Username = ? AND Password = ?\n",
    "\"\"\", ('Jasi9001', 'password'))\n",
    "that = this.fetchone()[0]\n",
    "print(that)\n",
    "print(type(that))\n",
    "# Response will be 1 (user exists in the system) or 0 (user does not exist in the system). "
   ]
  },
  {
   "cell_type": "markdown",
   "metadata": {},
   "source": [
    "## Insert test data into User_Account\n",
    "The test in the cell below verifies that the User_Account table does not accept a duplicate usernames or email addresses. "
   ]
  },
  {
   "cell_type": "code",
   "execution_count": 34,
   "metadata": {},
   "outputs": [
    {
     "name": "stdout",
     "output_type": "stream",
     "text": [
      "...Duplicate username/email test...\n",
      "\n",
      "Pass: username1\n",
      "Pass: username2\n",
      "Pass: username3\n",
      "Fail: username4\n",
      "Fail: username1\n",
      "\n",
      "[Inserts 1-3 should pass; 4 and 5 should fail.]\n"
     ]
    }
   ],
   "source": [
    "# CREATE_UserAccount is an sql string formatted to allow substitution. Note the '?'s in the string below.\n",
    "INSERT_UserAccount = \"\"\"\n",
    "                     INSERT INTO User_Account (Username,Password,First_Name,Last_Name,Email) \n",
    "                     VALUES (?,?,?,?,?);\n",
    "                     \"\"\"\n",
    "data = [(\"username1\",\"abc123\",\"Mike\",\"Roberts\",\"email@email.com\"),\n",
    "        (\"username2\",\"ghi789\",\"Luke\",\"Vivelle\",\"i_heart_sudoku659@email.com\"),  \n",
    "        (\"username3\",\"jkl012\",\"Joe\",\"Henderson\",\"jimmycrackKORN@email.com\"),# duplicate email.(MUST FAIL)\n",
    "        (\"username4\",\"def456\",\"Joe\",\"Henderson\",\"email@email.com\"),\n",
    "        (\"username1\",\"mno345\",\"Jim\",\"Beam\",\"patRobertson#$%@email.com\")] # duplicate username (MUST FAIL)\n",
    "\n",
    "# Insert the test data using a try-catch statement and an activated cursor.\n",
    "print(\"...Duplicate username/email test...\")\n",
    "print()\n",
    "for item in data:\n",
    "    try:\n",
    "        res = cur.execute(INSERT_UserAccount, (item[0],item[1],item[2],item[3],item[4]))  # sql script and input.\n",
    "        res.fetchall()\n",
    "        con.commit()\n",
    "        print(\"Pass:\", item[0])\n",
    "    except:\n",
    "        print(\"Fail:\", item[0])\n",
    "print()\n",
    "print(\"[Inserts 1-3 should pass; 4 and 5 should fail.]\")"
   ]
  },
  {
   "cell_type": "code",
   "execution_count": 1,
   "metadata": {},
   "outputs": [],
   "source": [
    "# = = = = = = = = = = PRESERVED TO CHECK ERROR CONDITIONS = = = = = = = = = = = = = = \n",
    "# INSERT_UserAccount = \"\"\"\n",
    "#                      INSERT INTO User_Account (Username,Password,First_Name,Last_Name,Email) \n",
    "#                      VALUES (?,?,?,?,?);\n",
    "#                      \"\"\"\n",
    "# cur = con.cursor()\n",
    "# res = cur.execute(INSERT_UserAccount, data[0])\n",
    "# = = = = = = = = = = PRESERVED TO CHECK ERROR CONDITIONS = = = = = = = = = = = = = ="
   ]
  },
  {
   "cell_type": "markdown",
   "metadata": {},
   "source": [
    "### Verify User_Account Select (Login Page)\n",
    "The test below develops and tests an sql string designed to verify a user by their login credentials, returning some personal information about the user as verification test."
   ]
  },
  {
   "cell_type": "code",
   "execution_count": 99,
   "metadata": {},
   "outputs": [
    {
     "name": "stdout",
     "output_type": "stream",
     "text": [
      "Credentials belong to 'Luke Vivelle'\n",
      "Luke's email: 'i_heart_sudoku659@email.com'\n"
     ]
    }
   ],
   "source": [
    "VERIFY_UserAccount = \"\"\"\n",
    "                     SELECT \n",
    "                         First_Name, \n",
    "                         Last_Name, \n",
    "                         Email\n",
    "                     FROM \n",
    "                         User_Account\n",
    "                     WHERE\n",
    "                         Username = ? AND Password = ?\n",
    "                     \"\"\"\n",
    "uname_passwd = (\"username2\", \"ghi789\")\n",
    "try:\n",
    "    cur = con.cursor()\n",
    "    cur.execute(VERIFY_UserAccount, uname_passwd)\n",
    "    con.commit()\n",
    "    for row in cur:\n",
    "        print(\"Credentials belong to\", \"'\" + row[0], row[1] + \"'\") \n",
    "        print(row[0]+\"'s\", \"email:\", \"'\"+row[2]+\"'\")\n",
    "except:\n",
    "    print(\"User Not Found\")"
   ]
  },
  {
   "cell_type": "code",
   "execution_count": null,
   "metadata": {},
   "outputs": [],
   "source": []
  },
  {
   "cell_type": "code",
   "execution_count": null,
   "metadata": {},
   "outputs": [],
   "source": []
  },
  {
   "cell_type": "code",
   "execution_count": null,
   "metadata": {},
   "outputs": [],
   "source": []
  },
  {
   "cell_type": "code",
   "execution_count": null,
   "metadata": {},
   "outputs": [],
   "source": []
  },
  {
   "cell_type": "code",
   "execution_count": null,
   "metadata": {},
   "outputs": [],
   "source": []
  },
  {
   "cell_type": "code",
   "execution_count": 62,
   "metadata": {},
   "outputs": [
    {
     "name": "stdout",
     "output_type": "stream",
     "text": [
      "User_Achievements table successfully created.\n"
     ]
    }
   ],
   "source": [
    "CREATE_UserAchievements = \"\"\"\n",
    "                     CREATE TABLE IF NOT EXISTS User_Achievements(\n",
    "                         Username VARCHAR(32),\n",
    "                         Inquisitor BOOLEAN,\n",
    "                         LoneWolf BOOLEAN,\n",
    "                         PuzzleMaster BOOLEAN,\n",
    "                         RiskTaker BOOLEAN,\n",
    "                         SpeedRunner BOOLEAN,\n",
    "                         Conqueror BOOLEAN,\n",
    "                         PRIMARY KEY(Username), \n",
    "                         FOREIGN KEY(Username) REFERENCES User_Account(Username)) \n",
    "                     \"\"\"\n",
    "try:\n",
    "    cur = con.cursor()\n",
    "    res = cur.execute(CREATE_UserAchievements)\n",
    "    res.fetchone()\n",
    "    con.commit()\n",
    "    print(\"User_Achievements table successfully created.\")\n",
    "except:\n",
    "    print(\"Unable to create User_Achievements table\")"
   ]
  },
  {
   "cell_type": "code",
   "execution_count": null,
   "metadata": {},
   "outputs": [],
   "source": []
  },
  {
   "cell_type": "code",
   "execution_count": null,
   "metadata": {},
   "outputs": [],
   "source": []
  },
  {
   "cell_type": "markdown",
   "metadata": {},
   "source": [
    "## Drop the User_Account Table"
   ]
  },
  {
   "cell_type": "code",
   "execution_count": null,
   "metadata": {},
   "outputs": [],
   "source": [
    "drop_table = \"\"\"DROP TABLE IF EXISTS User_Account\"\"\"\n",
    "\n",
    "try:\n",
    "    res = cur.execute(create_UserAccount)\n",
    "    res.fetchone()\n",
    "    print(\"User_Account Table Dropped\")\n",
    "except:\n",
    "    print(\"Not working\")"
   ]
  },
  {
   "cell_type": "markdown",
   "metadata": {},
   "source": [
    "## Close the Database Connection"
   ]
  },
  {
   "cell_type": "code",
   "execution_count": 106,
   "metadata": {},
   "outputs": [],
   "source": [
    "con.close()"
   ]
  },
  {
   "cell_type": "code",
   "execution_count": null,
   "metadata": {},
   "outputs": [],
   "source": []
  }
 ],
 "metadata": {
  "kernelspec": {
   "display_name": "Python 3 (ipykernel)",
   "language": "python",
   "name": "python3"
  },
  "language_info": {
   "codemirror_mode": {
    "name": "ipython",
    "version": 3
   },
   "file_extension": ".py",
   "mimetype": "text/x-python",
   "name": "python",
   "nbconvert_exporter": "python",
   "pygments_lexer": "ipython3",
   "version": "3.10.8"
  }
 },
 "nbformat": 4,
 "nbformat_minor": 4
}
