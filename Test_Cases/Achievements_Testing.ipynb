{
 "cells": [
  {
   "cell_type": "markdown",
   "id": "dc5cf7f0-62b8-4f61-b9ad-52633be6fa0a",
   "metadata": {
    "tags": []
   },
   "source": [
    "# Hooli-Strike Team Achievements Testing \n",
    "<figure width=100%>\n",
    "</figure>\n",
    "    \n",
    "## CSPB 3308; Team One\n",
    "<hr>"
   ]
  },
  {
   "cell_type": "markdown",
   "id": "9836ccad-a642-4c56-84d1-8ebd75f2e67b",
   "metadata": {},
   "source": [
    "## Set Up the Database Connection"
   ]
  },
  {
   "cell_type": "code",
   "execution_count": 21,
   "id": "d48b6399-fa13-4c62-8f41-e5923d262563",
   "metadata": {},
   "outputs": [],
   "source": [
    "import sqlite3\n",
    "import dbAPI6_achievements\n",
    "import json\n",
    "import importlib\n",
    "importlib.reload(dbAPI6_achievements)\n",
    "\n",
    "db_name = \"achievements_test_db\"\n",
    "#dbAPI6_achievements.delete_tables(db_name)\n",
    "dbAPI6_achievements.create(db_name)\n",
    "\n",
    "con = sqlite3.connect(db_name)\n",
    "cur = con.cursor() "
   ]
  },
  {
   "cell_type": "code",
   "execution_count": 22,
   "id": "71807d5e-536e-4bcc-9667-3a514c528389",
   "metadata": {},
   "outputs": [
    {
     "name": "stdout",
     "output_type": "stream",
     "text": [
      "\n",
      "Tables:\n",
      "\t[User_Account]\n",
      "\tColumns of User_Account\n",
      "\t\t (0, 'Username', 'VARCHAR(32)', 0, None, 1)\n",
      "\t\t (1, 'Password', 'VARCHAR(16)', 0, None, 0)\n",
      "\t\t (2, 'First_Name', 'VARCHAR(50)', 0, None, 0)\n",
      "\t\t (3, 'Last_Name', 'VARCHAR(50)', 0, None, 0)\n",
      "\t\t (4, 'Email', 'VARCHAR(320)', 0, None, 0)\n",
      "\t[User_Achievements]\n",
      "\tColumns of User_Achievements\n",
      "\t\t (0, 'Username', 'VARCHAR(32)', 0, None, 1)\n",
      "\t\t (1, 'Inquisitor', 'BOOLEAN', 0, None, 0)\n",
      "\t\t (2, 'LoneWolf', 'BOOLEAN', 0, None, 0)\n",
      "\t\t (3, 'PuzzleMaster', 'BOOLEAN', 0, None, 0)\n",
      "\t\t (4, 'RiskTaker', 'BOOLEAN', 0, None, 0)\n",
      "\t\t (5, 'SpeedRunner', 'BOOLEAN', 0, None, 0)\n",
      "\t\t (6, 'Conqueror', 'BOOLEAN', 0, None, 0)\n",
      "\t[Puzzle_Master]\n",
      "\tColumns of Puzzle_Master\n",
      "\t\t (0, 'Username', 'VARCHAR(32)', 0, None, 1)\n",
      "\t\t (1, 'Game1_Easy', 'BOOLEAN', 0, None, 0)\n",
      "\t\t (2, 'Game2_Easy', 'BOOLEAN', 0, None, 0)\n",
      "\t\t (3, 'Game3_Easy', 'BOOLEAN', 0, None, 0)\n",
      "\t\t (4, 'Game4_Easy', 'BOOLEAN', 0, None, 0)\n",
      "\t\t (5, 'Game1_Med', 'BOOLEAN', 0, None, 0)\n",
      "\t\t (6, 'Game2_Med', 'BOOLEAN', 0, None, 0)\n",
      "\t\t (7, 'Game3_Med', 'BOOLEAN', 0, None, 0)\n",
      "\t\t (8, 'Game4_Med', 'BOOLEAN', 0, None, 0)\n",
      "\t\t (9, 'Game1_Hard', 'BOOLEAN', 0, None, 0)\n",
      "\t\t (10, 'Game2_Hard', 'BOOLEAN', 0, None, 0)\n",
      "\t\t (11, 'Game3_Hard', 'BOOLEAN', 0, None, 0)\n",
      "\t\t (12, 'Game4_Hard', 'BOOLEAN', 0, None, 0)\n",
      "\t[Achievement_Stats]\n",
      "\tColumns of Achievement_Stats\n",
      "\t\t (0, 'Username', 'VARCHAR(32)', 0, None, 1)\n",
      "\t\t (1, 'EasyGamesCompleted', 'INT', 0, None, 0)\n",
      "\t\t (2, 'MedGamesCompleted', 'INT', 0, None, 0)\n",
      "\t\t (3, 'HardGamesCompleted', 'INT', 0, None, 0)\n",
      "\t\t (4, 'Best_Time_Easy', 'INT', 0, None, 0)\n",
      "\t\t (5, 'Best_Time_Med', 'INT', 0, None, 0)\n",
      "\t\t (6, 'Best_Time_Hard', 'INT', 0, None, 0)\n",
      "\t[Games_In_Progress]\n",
      "\tColumns of Games_In_Progress\n",
      "\t\t (0, 'Username', 'VARCHAR(32)', 0, None, 1)\n",
      "\t\t (1, 'Game_ID', 'INT', 0, None, 0)\n",
      "\t\t (2, 'Current_Time', 'INT', 0, None, 0)\n",
      "\t\t (3, 'Game', 'VARCHAR(100)', 0, None, 0)\n",
      "\t\t (4, 'Original_Game', 'VARCHAR(100)', 0, None, 0)\n",
      "\t\t (5, 'Difficulty', 'VARCHAR(6)', 0, None, 0)\n",
      "\t\t (6, 'Mistakes_Checked', 'INT', 0, None, 0)\n",
      "\t\t (7, 'Notes_Checked', 'INT', 0, None, 0)\n",
      "\t\t (8, 'Mistakes_Count', 'INT', 0, None, 0)\n",
      "\t[Game_Settings]\n",
      "\tColumns of Game_Settings\n",
      "\t\t (0, 'Username', 'INT', 0, None, 1)\n",
      "\t\t (1, 'Show_Clock', 'BOOLEAN', 0, None, 0)\n",
      "\t\t (2, 'Show_Mistakes_Counter', 'BOOLEAN', 0, None, 0)\n"
     ]
    }
   ],
   "source": [
    "dbAPI6_achievements.print_tables(db_name)"
   ]
  },
  {
   "cell_type": "code",
   "execution_count": 23,
   "id": "b04c7738-7bca-439d-9094-817d2c255423",
   "metadata": {},
   "outputs": [],
   "source": [
    "\n",
    "cur.execute(\"PRAGMA foreign_keys = ON;\")\n",
    "for user in [{'Username':'Paul_Schneider', \"Password\":'CSPB', 'First_Name':'Paul', 'Last_Name': 'Schneider','Email':'Paul_Schneider@email.com'}]:\n",
    "            cur.execute(\"INSERT INTO User_Account VALUES (:Username, :Password, :First_Name, :Last_Name, :Email);\",user)\n",
    "\n"
   ]
  },
  {
   "cell_type": "markdown",
   "id": "6c8f81f1-14bb-42bd-977d-f0155cd9ffd3",
   "metadata": {},
   "source": [
    "### Test to make sure Achievement_Stats table is initialized correctly\n"
   ]
  },
  {
   "cell_type": "code",
   "execution_count": 33,
   "id": "3707989e-89b5-4dc6-b9af-4462f299e8c5",
   "metadata": {},
   "outputs": [
    {
     "name": "stdout",
     "output_type": "stream",
     "text": [
      "Games in Progress\n",
      "('Paul_Schneider', 0, 0, 0, None, None, None)\n"
     ]
    }
   ],
   "source": [
    "\n",
    "print(\"Achievement Stats\") \n",
    "for result in cur.execute(\"SELECT * FROM Achievement_Stats\"):\n",
    "        EasyGamesCompleted = result[1]\n",
    "        MedGamesCompleted = result[2]\n",
    "        HardGamesCompleted = result[3]\n",
    "    \n",
    "        Best_Time_Easy = result[4]\n",
    "        Best_Time_Med = result[5]\n",
    "        Best_Time_Hard = result[6]\n",
    "        \n",
    "        print(result) \n",
    "        \n",
    "# No Games should be completed yet \n",
    "assert EasyGamesCompleted == 0 \n",
    "assert MedGamesCompleted == 0\n",
    "assert HardGamesCompleted == 0\n",
    "\n",
    "# Best times should all be NULL \n",
    "assert Best_Time_Easy == None\n",
    "assert Best_Time_Med == None\n",
    "assert Best_Time_Hard == None \n",
    "                          \n",
    "\n",
    "        "
   ]
  },
  {
   "cell_type": "markdown",
   "id": "75b2f6e8-0ce2-4396-9ae3-935bfc7831cc",
   "metadata": {},
   "source": [
    "### Test to make sure Games in Progress is initialized correctly "
   ]
  },
  {
   "cell_type": "code",
   "execution_count": 39,
   "id": "d7223a74-7613-4aca-a2e2-cfebfe1f3f57",
   "metadata": {},
   "outputs": [
    {
     "name": "stdout",
     "output_type": "stream",
     "text": [
      "Games in Progress\n",
      "('Paul_Schneider', 1, 0, '', '', '0', 0, 0, 0)\n"
     ]
    }
   ],
   "source": [
    "print(\"Games in Progress\") \n",
    "for result in cur.execute(\"SELECT * FROM Games_In_Progress\"):\n",
    "    Game_ID = result[1]\n",
    "    Current_Time = result[2]\n",
    "    Game = result[3]\n",
    "    Original_Game = result[4]\n",
    "    Difficulty = result[5]\n",
    "    Mistakes_Checked = result[6]\n",
    "    Notes_Checked = result[7]\n",
    "    Mistakes_Count = result[8] \n",
    "    \n",
    "    print(result) \n",
    "    \n",
    "# Game_ID Should be one because the first game is about to be played \n",
    "assert Game_ID == 1 \n",
    "\n",
    "# The game has not started yet, so no data should be recorded \n",
    "assert Current_Time == 0\n",
    "assert Mistakes_Checked == 0\n",
    "assert Notes_Checked == 0 \n",
    "\n",
    "# Information about the game has not been recorded yet \n",
    "assert Game == \"\" \n",
    "assert Original_Game == \"\" \n",
    "\n",
    "# No difficulty has been selected \n",
    "assert Difficulty == \"0\" \n",
    "\n",
    "\n",
    "    \n",
    "\n"
   ]
  },
  {
   "cell_type": "markdown",
   "id": "045b3f17-c449-4ea7-b487-735570f2ab12",
   "metadata": {},
   "source": [
    "### Test to make sure Game Settings is initialized correctly "
   ]
  },
  {
   "cell_type": "code",
   "execution_count": 41,
   "id": "15434def-4fbd-4148-8118-bc4df9613e9e",
   "metadata": {},
   "outputs": [
    {
     "name": "stdout",
     "output_type": "stream",
     "text": [
      "Game Settings\n",
      "('Paul_Schneider', 1, 0)\n"
     ]
    }
   ],
   "source": [
    "print(\"Game Settings\") \n",
    "for result in cur.execute(\"SELECT * FROM Game_Settings\"):\n",
    "    Show_Clock = result[1]\n",
    "    Show_Mistakes_Counter = result[2]\n",
    "    print(result) \n",
    "    \n",
    "# The game should start with the clock on \n",
    "assert Show_Clock == 1 \n",
    "\n",
    "# The default mistakes mode should be on, leaving the mistakes counter off\n",
    "assert Show_Mistakes_Counter == 0"
   ]
  },
  {
   "cell_type": "code",
   "execution_count": null,
   "id": "ab08adcc-c89e-4be5-888b-ca745b69442a",
   "metadata": {},
   "outputs": [],
   "source": []
  }
 ],
 "metadata": {
  "kernelspec": {
   "display_name": "Python 3 (ipykernel)",
   "language": "python",
   "name": "python3"
  },
  "language_info": {
   "codemirror_mode": {
    "name": "ipython",
    "version": 3
   },
   "file_extension": ".py",
   "mimetype": "text/x-python",
   "name": "python",
   "nbconvert_exporter": "python",
   "pygments_lexer": "ipython3",
   "version": "3.10.8"
  }
 },
 "nbformat": 4,
 "nbformat_minor": 5
}
