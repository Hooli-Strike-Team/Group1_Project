{
 "cells": [
  {
   "cell_type": "markdown",
   "id": "dc5cf7f0-62b8-4f61-b9ad-52633be6fa0a",
   "metadata": {
    "tags": []
   },
   "source": [
    "# Hooli-Strike Team Achievements Testing \n",
    "<figure width=100%>\n",
    "</figure>\n",
    "    \n",
    "## CSPB 3308; Team One\n",
    "<hr>"
   ]
  },
  {
   "cell_type": "markdown",
   "id": "9836ccad-a642-4c56-84d1-8ebd75f2e67b",
   "metadata": {},
   "source": [
    "## Set Up the Database Connection"
   ]
  },
  {
   "cell_type": "code",
   "execution_count": 21,
   "id": "d48b6399-fa13-4c62-8f41-e5923d262563",
   "metadata": {},
   "outputs": [],
   "source": [
    "import sqlite3\n",
    "import dbAPI6_achievements\n",
    "import json\n",
    "import importlib\n",
    "importlib.reload(dbAPI6_achievements)\n",
    "\n",
    "db_name = \"achievements_test_db\"\n",
    "#dbAPI6_achievements.delete_tables(db_name)\n",
    "dbAPI6_achievements.create(db_name)\n",
    "\n",
    "con = sqlite3.connect(db_name)\n",
    "cur = con.cursor() "
   ]
  },
  {
   "cell_type": "code",
   "execution_count": 22,
   "id": "71807d5e-536e-4bcc-9667-3a514c528389",
   "metadata": {},
   "outputs": [
    {
     "name": "stdout",
     "output_type": "stream",
     "text": [
      "\n",
      "Tables:\n",
      "\t[User_Account]\n",
      "\tColumns of User_Account\n",
      "\t\t (0, 'Username', 'VARCHAR(32)', 0, None, 1)\n",
      "\t\t (1, 'Password', 'VARCHAR(16)', 0, None, 0)\n",
      "\t\t (2, 'First_Name', 'VARCHAR(50)', 0, None, 0)\n",
      "\t\t (3, 'Last_Name', 'VARCHAR(50)', 0, None, 0)\n",
      "\t\t (4, 'Email', 'VARCHAR(320)', 0, None, 0)\n",
      "\t[User_Achievements]\n",
      "\tColumns of User_Achievements\n",
      "\t\t (0, 'Username', 'VARCHAR(32)', 0, None, 1)\n",
      "\t\t (1, 'Inquisitor', 'BOOLEAN', 0, None, 0)\n",
      "\t\t (2, 'LoneWolf', 'BOOLEAN', 0, None, 0)\n",
      "\t\t (3, 'PuzzleMaster', 'BOOLEAN', 0, None, 0)\n",
      "\t\t (4, 'RiskTaker', 'BOOLEAN', 0, None, 0)\n",
      "\t\t (5, 'SpeedRunner', 'BOOLEAN', 0, None, 0)\n",
      "\t\t (6, 'Conqueror', 'BOOLEAN', 0, None, 0)\n",
      "\t[Puzzle_Master]\n",
      "\tColumns of Puzzle_Master\n",
      "\t\t (0, 'Username', 'VARCHAR(32)', 0, None, 1)\n",
      "\t\t (1, 'Game1_Easy', 'BOOLEAN', 0, None, 0)\n",
      "\t\t (2, 'Game2_Easy', 'BOOLEAN', 0, None, 0)\n",
      "\t\t (3, 'Game3_Easy', 'BOOLEAN', 0, None, 0)\n",
      "\t\t (4, 'Game4_Easy', 'BOOLEAN', 0, None, 0)\n",
      "\t\t (5, 'Game1_Med', 'BOOLEAN', 0, None, 0)\n",
      "\t\t (6, 'Game2_Med', 'BOOLEAN', 0, None, 0)\n",
      "\t\t (7, 'Game3_Med', 'BOOLEAN', 0, None, 0)\n",
      "\t\t (8, 'Game4_Med', 'BOOLEAN', 0, None, 0)\n",
      "\t\t (9, 'Game1_Hard', 'BOOLEAN', 0, None, 0)\n",
      "\t\t (10, 'Game2_Hard', 'BOOLEAN', 0, None, 0)\n",
      "\t\t (11, 'Game3_Hard', 'BOOLEAN', 0, None, 0)\n",
      "\t\t (12, 'Game4_Hard', 'BOOLEAN', 0, None, 0)\n",
      "\t[Achievement_Stats]\n",
      "\tColumns of Achievement_Stats\n",
      "\t\t (0, 'Username', 'VARCHAR(32)', 0, None, 1)\n",
      "\t\t (1, 'EasyGamesCompleted', 'INT', 0, None, 0)\n",
      "\t\t (2, 'MedGamesCompleted', 'INT', 0, None, 0)\n",
      "\t\t (3, 'HardGamesCompleted', 'INT', 0, None, 0)\n",
      "\t\t (4, 'Best_Time_Easy', 'INT', 0, None, 0)\n",
      "\t\t (5, 'Best_Time_Med', 'INT', 0, None, 0)\n",
      "\t\t (6, 'Best_Time_Hard', 'INT', 0, None, 0)\n",
      "\t[Games_In_Progress]\n",
      "\tColumns of Games_In_Progress\n",
      "\t\t (0, 'Username', 'VARCHAR(32)', 0, None, 1)\n",
      "\t\t (1, 'Game_ID', 'INT', 0, None, 0)\n",
      "\t\t (2, 'Current_Time', 'INT', 0, None, 0)\n",
      "\t\t (3, 'Game', 'VARCHAR(100)', 0, None, 0)\n",
      "\t\t (4, 'Original_Game', 'VARCHAR(100)', 0, None, 0)\n",
      "\t\t (5, 'Difficulty', 'VARCHAR(6)', 0, None, 0)\n",
      "\t\t (6, 'Mistakes_Checked', 'INT', 0, None, 0)\n",
      "\t\t (7, 'Notes_Checked', 'INT', 0, None, 0)\n",
      "\t\t (8, 'Mistakes_Count', 'INT', 0, None, 0)\n",
      "\t[Game_Settings]\n",
      "\tColumns of Game_Settings\n",
      "\t\t (0, 'Username', 'INT', 0, None, 1)\n",
      "\t\t (1, 'Show_Clock', 'BOOLEAN', 0, None, 0)\n",
      "\t\t (2, 'Show_Mistakes_Counter', 'BOOLEAN', 0, None, 0)\n"
     ]
    }
   ],
   "source": [
    "dbAPI6_achievements.print_tables(db_name)"
   ]
  },
  {
   "cell_type": "code",
   "execution_count": 23,
   "id": "b04c7738-7bca-439d-9094-817d2c255423",
   "metadata": {},
   "outputs": [],
   "source": [
    "\n",
    "cur.execute(\"PRAGMA foreign_keys = ON;\")\n",
    "for user in [{'Username':'Paul_Schneider', \"Password\":'CSPB', 'First_Name':'Paul', 'Last_Name': 'Schneider','Email':'Paul_Schneider@email.com'}]:\n",
    "            cur.execute(\"INSERT INTO User_Account VALUES (:Username, :Password, :First_Name, :Last_Name, :Email);\",user)\n",
    "\n"
   ]
  },
  {
   "cell_type": "markdown",
   "id": "6c8f81f1-14bb-42bd-977d-f0155cd9ffd3",
   "metadata": {},
   "source": [
    "### Test to make sure Achievement_Stats table is initialized correctly\n"
   ]
  },
  {
   "cell_type": "code",
   "execution_count": 33,
   "id": "3707989e-89b5-4dc6-b9af-4462f299e8c5",
   "metadata": {},
   "outputs": [
    {
     "name": "stdout",
     "output_type": "stream",
     "text": [
      "Games in Progress\n",
      "('Paul_Schneider', 0, 0, 0, None, None, None)\n"
     ]
    }
   ],
   "source": [
    "\n",
    "print(\"Games in Progress\") \n",
    "for result in cur.execute(\"SELECT * FROM Achievement_Stats\"):\n",
    "        EasyGamesCompleted = result[1]\n",
    "        MedGamesCompleted = result[2]\n",
    "        HardGamesCompleted = result[3]\n",
    "    \n",
    "        Best_Time_Easy = result[4]\n",
    "        Best_Time_Med = result[5]\n",
    "        Best_Time_Hard = result[6]\n",
    "        \n",
    "        print(result) \n",
    "        \n",
    "# No Games should be completed yet \n",
    "assert EasyGamesCompleted == 0 \n",
    "assert MedGamesCompleted == 0\n",
    "assert HardGamesCompleted == 0\n",
    "\n",
    "# Best times should all be NULL \n",
    "assert Best_Time_Easy == None\n",
    "assert Best_Time_Med == None\n",
    "assert Best_Time_Hard == None \n",
    "                          \n",
    "\n",
    "        "
   ]
  },
  {
   "cell_type": "code",
   "execution_count": null,
   "id": "4c900957-1c19-4ff9-b1e6-eeec00d84411",
   "metadata": {},
   "outputs": [],
   "source": []
  },
  {
   "cell_type": "markdown",
   "id": "5439ff8c-e4ff-4263-9a84-f990a0cde0b0",
   "metadata": {},
   "source": [
    "### Test that completing three games on hard flags the \"Risk Taker\" badge"
   ]
  },
  {
   "cell_type": "code",
   "execution_count": null,
   "id": "0f3b4d7e-c5e8-4bec-80c7-f94de3cb04cb",
   "metadata": {},
   "outputs": [],
   "source": [
    "# # Update Achievements stats to hold different values for HardGamesCompleted\n",
    "# UPDATE_Achievement_stats = '''\n",
    "#                     UPDATE Achievement_Stats SET HardGamesCompleted = ?\n",
    "#                   '''\n",
    "# data = [(0),\n",
    "#         (1),\n",
    "#         (2),\n",
    "#         (3),\n",
    "#         (4)\n",
    "#        ]\n",
    "# # Test for values greater that 3 \n",
    "# for item in data:\n",
    "#     try: \n",
    "#         res = cur.execute(UPDATE_Achievement_stats, (item[0],item[1],item[2],item[3],item[4]))\n",
    "#         res.fetchall() \n",
    "#         print(\"Pass\n",
    "\n",
    "                             "
   ]
  }
 ],
 "metadata": {
  "kernelspec": {
   "display_name": "Python 3 (ipykernel)",
   "language": "python",
   "name": "python3"
  },
  "language_info": {
   "codemirror_mode": {
    "name": "ipython",
    "version": 3
   },
   "file_extension": ".py",
   "mimetype": "text/x-python",
   "name": "python",
   "nbconvert_exporter": "python",
   "pygments_lexer": "ipython3",
   "version": "3.10.8"
  }
 },
 "nbformat": 4,
 "nbformat_minor": 5
}
