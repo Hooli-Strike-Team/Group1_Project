{
 "cells": [
  {
   "cell_type": "markdown",
   "metadata": {},
   "source": [
    "# Hooli-Strike Team Database Controller\n",
    "<figure width=100%>\n",
    "</figure>\n",
    "    \n",
    "## CSPB 3308; Team One\n",
    "<hr>"
   ]
  },
  {
   "cell_type": "markdown",
   "metadata": {
    "tags": []
   },
   "source": [
    "## OWNERS: name, email, github username\n",
    "\n",
    "Name: ```Micah Simmerman```\n",
    "\n",
    "Email:   ```jasi9001@colorado.edu```\n",
    "\n",
    "Name: ```Paul Schneider```\n",
    "\n",
    "Email:   ```Paul.Schneider-1@colorado.edu```"
   ]
  },
  {
   "cell_type": "markdown",
   "metadata": {},
   "source": [
    "Write your table definitions here. **Format your definitions so they are readable.**"
   ]
  },
  {
   "cell_type": "markdown",
   "metadata": {},
   "source": [
    "### Establish the Database Connection"
   ]
  },
  {
   "cell_type": "code",
   "execution_count": 46,
   "metadata": {},
   "outputs": [],
   "source": [
    "import sqlite3\n",
    "db_name = \"trigger_test_db\"\n",
    "# con = sqlite3.connect(\"trigger_test_db\")\n",
    "# cur = con.cursor()"
   ]
  },
  {
   "cell_type": "markdown",
   "metadata": {},
   "source": [
    "# = = = = = = = = Start Destructive Queries = = = = = = = = = "
   ]
  },
  {
   "cell_type": "markdown",
   "metadata": {},
   "source": [
    "### Drop The Tables"
   ]
  },
  {
   "cell_type": "code",
   "execution_count": 163,
   "metadata": {},
   "outputs": [
    {
     "name": "stdout",
     "output_type": "stream",
     "text": [
      "All Tables Dropped\n"
     ]
    }
   ],
   "source": [
    "try:\n",
    "    con = sqlite3.connect(db_name) \n",
    "    with sqlite3.connect(db_name) as con:\n",
    "        c = conn.cursor() \n",
    "        #Create User_Account Table\n",
    "        con.execute(\"PRAGMA foreign_keys = ON;\")\n",
    "        con.execute(\"DROP TABLE IF EXISTS User_Account;\")\n",
    "        con.execute(\"DROP TABLE IF EXISTS User_Achievements;\")\n",
    "        con.execute(\"DROP TABLE IF EXISTS Achievement_Stats;\")\n",
    "        con.execute(\"DROP TABLE IF EXISTS Puzzle_Master;\")\n",
    "        con.execute(\"DROP TABLE IF EXISTS Games_In_Progress;\")\n",
    "        con.execute(\"DROP TABLE IF EXISTS Game_Settings;\")\n",
    "        con.commit()\n",
    "    print(\"All Tables Dropped\")\n",
    "except:\n",
    "    print(\"Not working\")\n",
    "\n",
    "# SAVE FOR TROUBLE SHOOTING\n",
    "# res = cur.execute(DROP_User_Account)\n",
    "# res.fetchone()\n",
    "# con.close()"
   ]
  },
  {
   "cell_type": "code",
   "execution_count": 192,
   "metadata": {},
   "outputs": [],
   "source": [
    "con = sqlite3.connect(db_name) \n",
    "with sqlite3.connect(db_name) as con:\n",
    "    c = conn.cursor() \n",
    "    con.executescript(\"\"\"\n",
    "                    PRAGMA foreign_keys = ON;\n",
    "                    DROP TABLE IF EXISTS User_Account;\n",
    "                    DROP TABLE IF EXISTS User_Achievements;\n",
    "                    DROP TABLE IF EXISTS Achievement_Stats;\n",
    "                    DROP TABLE IF EXISTS Puzzle_Master;\n",
    "                    DROP TABLE IF EXISTS Games_In_Progress;\n",
    "                    DROP TABLE IF EXISTS Game_Settings;\n",
    "                    \"\"\")"
   ]
  },
  {
   "cell_type": "markdown",
   "metadata": {},
   "source": [
    "## Truncate User_Account Table"
   ]
  },
  {
   "cell_type": "code",
   "execution_count": 228,
   "metadata": {},
   "outputs": [],
   "source": [
    "\n",
    "con = sqlite3.connect(db_name) \n",
    "with sqlite3.connect(db_name) as con:\n",
    "    c = conn.cursor() \n",
    "    con.execute(\"PRAGMA foreign_keys = ON;\")\n",
    "    con.execute(\"DELETE FROM User_Account\")\n",
    "    for result in con.execute(\"SELECT * FROM User_Account;\"):\n",
    "        print(\"Test:\", result)\n",
    "con.close()\n"
   ]
  },
  {
   "cell_type": "markdown",
   "metadata": {},
   "source": [
    "# = = = = = = = = End Destructive Queries = = = = = = = = = "
   ]
  },
  {
   "cell_type": "markdown",
   "metadata": {},
   "source": [
    "### Create User_Account Table"
   ]
  },
  {
   "cell_type": "code",
   "execution_count": 220,
   "metadata": {},
   "outputs": [
    {
     "name": "stdout",
     "output_type": "stream",
     "text": [
      "Tables created successfully\n"
     ]
    }
   ],
   "source": [
    "try:\n",
    "    con = sqlite3.connect(db_name) \n",
    "    c = con.cursor() \n",
    "    \n",
    "    c.execute(\"PRAGMA foreign_keys = ON;\")\n",
    "    \n",
    "    #Create User_Account Table\n",
    "    c.execute(\"\"\"\n",
    "            CREATE TABLE IF NOT EXISTS User_Account(\n",
    "                Username VARCHAR(32),\n",
    "                Password VARCHAR(16),\n",
    "                First_Name VARCHAR(50),\n",
    "                Last_Name VARCHAR(50),\n",
    "                Email VARCHAR(320) UNIQUE, \n",
    "                PRIMARY KEY(Username))\"\"\")\n",
    "\n",
    "\n",
    "\n",
    "\n",
    "    #Create User_Achievements Table\n",
    "    c.execute(\"\"\"\n",
    "\n",
    "            CREATE TABLE IF NOT EXISTS User_Achievements(\n",
    "                Username VARCHAR(32),\n",
    "                Inquisitor BOOLEAN,\n",
    "                LoneWolf BOOLEAN,\n",
    "                PuzzleMaster BOOLEAN,\n",
    "                RiskTaker BOOLEAN,\n",
    "                SpeedRunner BOOLEAN,\n",
    "                Conqueror BOOLEAN,\n",
    "                PRIMARY KEY(Username), \n",
    "                CONSTRAINT fk_user_achievements \n",
    "                    FOREIGN KEY(Username) REFERENCES User_Account(Username)\n",
    "                    ON DELETE CASCADE)\n",
    "            \"\"\")\n",
    "\n",
    "\n",
    "    #Create Puzzle_Master Table\n",
    "    c.execute(\"\"\"\n",
    "\n",
    "            CREATE TABLE IF NOT EXISTS Puzzle_Master(\n",
    "                Username VARCHAR(32),\n",
    "                Game1_Easy BOOLEAN,\n",
    "                Game2_Easy BOOLEAN,\n",
    "                Game3_Easy BOOLEAN,\n",
    "                Game4_Easy BOOLEAN,\n",
    "                Game1_Med BOOLEAN, \n",
    "                Game2_Med BOOLEAN,\n",
    "                Game3_Med BOOLEAN,\n",
    "                Game4_Med BOOLEAN,\n",
    "                Game1_Hard BOOLEAN,\n",
    "                Game2_Hard BOOLEAN,\n",
    "                Game3_Hard BOOLEAN,\n",
    "                Game4_Hard BOOLEAN,\n",
    "                PRIMARY KEY(Username), \n",
    "                CONSTRAINT fk_puzzle_master\n",
    "                    FOREIGN KEY(Username) REFERENCES User_Account(Username)\n",
    "                    ON DELETE CASCADE)\n",
    "            \"\"\")\n",
    "\n",
    "    #Create Achievement_Stats Table \n",
    "    c.execute(\"\"\"\n",
    "\n",
    "            CREATE TABLE IF NOT EXISTS Achievement_Stats(\n",
    "                Username VARCHAR(32),\n",
    "                EasyGamesCompleted INT,\n",
    "                MedGamesCompleted INT,\n",
    "                HardGamesCompleted INT,\n",
    "                Best_Time_Easy FLOAT,\n",
    "                Best_Time_Med FLOAT,\n",
    "                Best_Time_Hard FLOAT,\n",
    "                PRIMARY KEY(Username),\n",
    "                CONSTRAINT fk_achievement_stats\n",
    "                    FOREIGN KEY(Username) REFERENCES User_Account(Username)\n",
    "                    ON DELETE CASCADE)\n",
    "            \"\"\")\n",
    "\n",
    "    #Create Games_In_Progress Table\n",
    "    c.execute(\"\"\"\n",
    "\n",
    "            CREATE TABLE IF NOT EXISTS Games_In_Progress(\n",
    "                Username VARCHAR(32),\n",
    "                Game_ID INT,\n",
    "                Current_Time INT,\n",
    "                Game VARCHAR(100),\n",
    "                Difficulty VARCHAR(6),\n",
    "                Mistakes_Checked INT,\n",
    "                Notes_Checked INT,\n",
    "                PRIMARY KEY(Username), \n",
    "                CONSTRAINT fk_games_in_progress\n",
    "                    FOREIGN KEY(Username) REFERENCES User_Account(Username)\n",
    "                    ON DELETE CASCADE)\n",
    "            \"\"\")\n",
    "\n",
    "    #Create Game_Settings Table \n",
    "    c.execute(\"\"\"\n",
    "\n",
    "            CREATE TABLE IF NOT EXISTS Game_Settings(\n",
    "                Username INT,\n",
    "                Show_Clock BOOLEAN,\n",
    "                Show_Mistakes_Counter BOOLEAN,\n",
    "                PRIMARY KEY(Username), \n",
    "                CONSTRAINT fk_game_settings\n",
    "                    FOREIGN KEY(Username) REFERENCES User_Account(Username)\n",
    "                    ON DELETE CASCADE)\n",
    "            \"\"\")\n",
    "\n",
    "\n",
    "    con.commit()\n",
    "    con.close()\n",
    "    print(\"Tables created successfully\")\n",
    "except:\n",
    "    print(\"Unable to create Tables\")"
   ]
  },
  {
   "cell_type": "code",
   "execution_count": 221,
   "metadata": {},
   "outputs": [
    {
     "name": "stdout",
     "output_type": "stream",
     "text": [
      "Trigger Created Successfully\n"
     ]
    }
   ],
   "source": [
    "try: \n",
    "    con = sqlite3.connect(db_name) \n",
    "    c = con.cursor() \n",
    "    \n",
    "    c.executescript(\"\"\"\n",
    "        PRAGMA foreign_keys = ON;\n",
    "        DROP TRIGGER IF EXISTS Create_User_Data;\n",
    "        CREATE TRIGGER Create_User_Data\n",
    "        AFTER INSERT ON User_Account\n",
    "        BEGIN\n",
    "            INSERT INTO User_Achievements VALUES (NEW.Username, 0, 0, 0, 0, 0, 0);\n",
    "            INSERT INTO Puzzle_Master VALUES(NEW.Username, 0, 0, 0, 0, 0, 0, 0, 0, 0, 0, 0, 0);\n",
    "            INSERT INTO Achievement_Stats VALUES (NEW.Username, 0, 0, 0, 0, 0, 0);\n",
    "            INSERT INTO Games_In_Progress VALUES (NEW.Username, 1, 0, 0, 0, 0, 0);\n",
    "            INSERT INTO Game_Settings VALUES (NEW.Username, 1, 0);\n",
    "        END;\n",
    "            \"\"\")\n",
    "    con.commit()\n",
    "    con.close()\n",
    "    print(\"Trigger Created Successfully\")\n",
    "except:\n",
    "    print(\"Unable to Create Create_User_Data Trigger\")"
   ]
  },
  {
   "cell_type": "markdown",
   "metadata": {},
   "source": [
    "### Select All Values"
   ]
  },
  {
   "cell_type": "code",
   "execution_count": 222,
   "metadata": {},
   "outputs": [],
   "source": [
    "con = sqlite3.connect(db_name)\n",
    "with con:\n",
    "        for result in con.execute(\"SELECT * FROM User_Account;\"):\n",
    "            print(\"User_Account:\", result)\n",
    "        for result in con.execute(\"SELECT * FROM User_Achievements;\"):\n",
    "            print(\"User_Achievements:\", result)            \n",
    "        for result in con.execute(\"SELECT * FROM Puzzle_Master;\"):\n",
    "            print(\"Puzzle_Master:\", result)\n",
    "        for result in con.execute(\"SELECT * FROM Achievement_Stats;\"):\n",
    "            print(\"Achievement_Stats:\", result)        \n",
    "        for result in con.execute(\"SELECT * FROM Games_In_Progress;\"):\n",
    "            print(\"Games_In_Progress:\", result)\n",
    "        for result in con.execute(\"SELECT * FROM Game_Settings;\"):\n",
    "            print(\"Game_Settings:\", result)\n",
    "con.close()"
   ]
  },
  {
   "cell_type": "markdown",
   "metadata": {},
   "source": [
    "## Insert test data into User_Account\n",
    "The test in the cell below verifies that other tables are populated whena user is inserted into the User_Account table."
   ]
  },
  {
   "cell_type": "code",
   "execution_count": 225,
   "metadata": {},
   "outputs": [
    {
     "name": "stdout",
     "output_type": "stream",
     "text": [
      "Trigger ON INSERT Test\n",
      "\n",
      "User Added: username1\n",
      "1 entries in User_Achievements\n",
      "1 entries in Puzzle_Master\n",
      "1 entries in Achievement_Stats\n",
      "1 entries in Games_In_Progress\n",
      "1 entries in Game_Settings\n",
      "User Added: username2\n",
      "2 entries in User_Achievements\n",
      "2 entries in Puzzle_Master\n",
      "2 entries in Achievement_Stats\n",
      "2 entries in Games_In_Progress\n",
      "2 entries in Game_Settings\n",
      "\n",
      "[There should be 1 additional item in all tables after each insert]\n"
     ]
    }
   ],
   "source": [
    "# CREATE_UserAccount is an sql string formatted to allow substitution. Note the '?'s in the string below.\n",
    "INSERT_UserAccount = \"\"\"\n",
    "                     INSERT INTO User_Account (Username,Password,First_Name,Last_Name,Email) \n",
    "                     VALUES (?,?,?,?,?);\n",
    "                     \"\"\"\n",
    "data = [(\"username1\",\"abc123\",\"Mike\",\"Roberts\",\"email@email.com\"), \n",
    "        (\"username2\",\"ghi789\",\"Luke\",\"Vivelle\",\"i_heart_sudoku659@email.com\")]\n",
    "\n",
    "        # (\"username2\",\"ghi789\",\"Luke\",\"Vivelle\",\"i_heart_sudoku659@email.com\"),  \n",
    "        # (\"username3\",\"jkl012\",\"Joe\",\"Henderson\",\"jimmycrackKORN@email.com\"),\n",
    "        # (\"username4\",\"def456\",\"Joe\",\"Henderson\",\"email@email.com\"), # duplicate email.(MUST FAIL)\n",
    "        # (\"username1\",\"mno345\",\"Jim\",\"Beam\",\"patRobertson#$%@email.com\")] # duplicate username (MUST FAIL)\n",
    "\n",
    "# Insert the test data using a try-catch statement and an activated cursor.\n",
    "print(\"Trigger ON INSERT Test\")\n",
    "print()\n",
    "for item in data:\n",
    "    try:\n",
    "        con = sqlite3.connect(db_name)\n",
    "        c = con.cursor() \n",
    "        c.execute(\"PRAGMA foreign_keys = ON;\")\n",
    "        res = c.execute(INSERT_UserAccount, (item[0],item[1],item[2],item[3],item[4]))  # sql script and input.\n",
    "        res.fetchall()\n",
    "        con.commit()\n",
    "\n",
    "        print(\"User Added:\", item[0])\n",
    "        \n",
    "        # Test other tables\n",
    "        res = c.execute('SELECT COUNT(*) FROM User_Achievements')\n",
    "        print(res.fetchall()[0][0], \"entries in User_Achievements\")\n",
    "        res = c.execute('SELECT COUNT(*) FROM Puzzle_Master')\n",
    "        print(res.fetchall()[0][0], \"entries in Puzzle_Master\")\n",
    "        res = c.execute('SELECT COUNT(*) FROM Achievement_Stats')\n",
    "        print(res.fetchall()[0][0], \"entries in Achievement_Stats\")\n",
    "        res = c.execute('SELECT COUNT(*) FROM Games_In_Progress')\n",
    "        print(res.fetchall()[0][0], \"entries in Games_In_Progress\")\n",
    "        res = c.execute('SELECT COUNT(*) FROM Game_Settings')\n",
    "        print(res.fetchall()[0][0], \"entries in Game_Settings\")\n",
    "        con.close()\n",
    "    except:\n",
    "        print(\"Failed Insert:\", item[0])\n",
    "    # try:\n",
    "    #     res = c.execute('SELECT * FROM User_Achievements')\n",
    "    #     print(res.fetchall())\n",
    "    # except:\n",
    "    #     print('select failed')\n",
    "        \n",
    "print()\n",
    "print(\"[There should be 1 additional item in all tables after each insert]\")"
   ]
  },
  {
   "cell_type": "markdown",
   "metadata": {},
   "source": [
    "## Delete Data from All Tables\n",
    "The test in the cell below verifies that other tables are populated whena user is inserted into the User_Account table."
   ]
  },
  {
   "cell_type": "code",
   "execution_count": 226,
   "metadata": {},
   "outputs": [
    {
     "name": "stdout",
     "output_type": "stream",
     "text": [
      "CASCADE ON DELETE Test\n",
      "\n",
      "Users Deleted: username2\n",
      "0 entries in User_Achievements\n",
      "0 entries in Puzzle_Master\n",
      "0 entries in Achievement_Stats\n",
      "0 entries in Games_In_Progress\n",
      "0 entries in Game_Settings\n",
      "\n",
      "[There should be no items in any tables after deletion of Users in User_Account]\n"
     ]
    }
   ],
   "source": [
    "# CREATE_UserAccount is an sql string formatted to allow substitution. Note the '?'s in the string below.\n",
    "DELETE_UserAccount = \"\"\"\n",
    "                     DELETE FROM User_Account\n",
    "                     \"\"\"\n",
    "\n",
    "# Insert the test data using a try-catch statement and an activated cursor.\n",
    "print(\"CASCADE ON DELETE Test\")\n",
    "print()\n",
    "try:\n",
    "    con = sqlite3.connect(db_name)\n",
    "    c = con.cursor() \n",
    "    c.execute(\"PRAGMA foreign_keys = ON;\")\n",
    "    res = c.execute(DELETE_UserAccount)  # sql script and input.\n",
    "    res.fetchall()\n",
    "    con.commit()\n",
    "\n",
    "    print(\"Users Deleted:\", item[0])\n",
    "\n",
    "    # Test other tables\n",
    "    res = c.execute('SELECT COUNT(*) FROM User_Achievements')\n",
    "    print(res.fetchall()[0][0], \"entries in User_Achievements\")\n",
    "    res = c.execute('SELECT COUNT(*) FROM Puzzle_Master')\n",
    "    print(res.fetchall()[0][0], \"entries in Puzzle_Master\")\n",
    "    res = c.execute('SELECT COUNT(*) FROM Achievement_Stats')\n",
    "    print(res.fetchall()[0][0], \"entries in Achievement_Stats\")\n",
    "    res = c.execute('SELECT COUNT(*) FROM Games_In_Progress')\n",
    "    print(res.fetchall()[0][0], \"entries in Games_In_Progress\")\n",
    "    res = c.execute('SELECT COUNT(*) FROM Game_Settings')\n",
    "    print(res.fetchall()[0][0], \"entries in Game_Settings\")\n",
    "    con.close()\n",
    "except:\n",
    "    print(\"Failed Insert:\", item[0])\n",
    "# try:\n",
    "#     res = c.execute('SELECT * FROM User_Achievements')\n",
    "#     print(res.fetchall())\n",
    "# except:\n",
    "#     print('select failed')\n",
    "        \n",
    "print()\n",
    "print(\"[There should be no items in any tables after deletion of Users in User_Account]\")"
   ]
  },
  {
   "cell_type": "markdown",
   "metadata": {},
   "source": [
    "## Drop the User_Account Table"
   ]
  },
  {
   "cell_type": "code",
   "execution_count": 227,
   "metadata": {},
   "outputs": [],
   "source": [
    "con.close()"
   ]
  },
  {
   "cell_type": "code",
   "execution_count": null,
   "metadata": {},
   "outputs": [],
   "source": []
  }
 ],
 "metadata": {
  "kernelspec": {
   "display_name": "Python 3 (ipykernel)",
   "language": "python",
   "name": "python3"
  },
  "language_info": {
   "codemirror_mode": {
    "name": "ipython",
    "version": 3
   },
   "file_extension": ".py",
   "mimetype": "text/x-python",
   "name": "python",
   "nbconvert_exporter": "python",
   "pygments_lexer": "ipython3",
   "version": "3.10.8"
  }
 },
 "nbformat": 4,
 "nbformat_minor": 4
}
